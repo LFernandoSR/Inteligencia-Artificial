{
 "cells": [
  {
   "cell_type": "code",
   "execution_count": null,
   "id": "2714d619",
   "metadata": {},
   "outputs": [],
   "source": [
    "# obtener imagenes de un video\n",
    "import cv2 \n",
    "# Inicializar un contador\n",
    "i = 0\n",
    "video_path = \"C:\\\\Users\\\\ferna\\\\OneDrive\\\\Escritorio\\\\a\\\\VID_20231207_082514.mp4\"\n",
    "\n",
    "cap = cv2.VideoCapture(video_path)\n",
    "\n",
    "while True:\n",
    "    ret, frame = cap.read()\n",
    "\n",
    "    if not ret:\n",
    "        break\n",
    "\n",
    "    frame = cv2.resize(frame, (125, 125))\n",
    "    i += 1\n",
    "    cv2.imwrite('C:\\\\Users\\\\ferna\\\\OneDrive\\\\Escritorio\\\\a\\\\2p' + str(i) + '.jpg', frame)\n",
    "    cv2.waitKey(100)\n",
    "\n",
    "# Libera los recursos\n",
    "cap.release()\n",
    "cv2.destroyAllWindows()"
   ]
  },
  {
   "cell_type": "code",
   "execution_count": null,
   "id": "376c8fce",
   "metadata": {},
   "outputs": [],
   "source": [
    "# Aplicar transformadas geometricas\n",
    "import cv2\n",
    "import numpy as np\n",
    "f = 0\n",
    "g = 0\n",
    "#img = cv2.imread(\"D:\\\\ferna\\\\IA\\\\N\\\\1I.jpg\")\n",
    "img = cv2.imread('C:\\\\Users\\\\ferna\\\\OneDrive\\\\Escritorio\\\\a\\\\1A.jpg')\n",
    "img_ancho = img.shape[1]\n",
    "img_alto = img.shape[0]\n",
    "while f < 34:\n",
    "    f=f+1\n",
    "    g=g+1\n",
    "    matriz = cv2.getRotationMatrix2D((img_ancho//2, img_alto//2),g,1)\n",
    "    nueva_imagen= cv2.warpAffine(img, matriz, (img_ancho, img_alto))\n",
    "    #cv2.imwrite('D:\\\\ferna\\\\IA\\\\N\\\\1I1'+str(f)+'.jpg', nueva_imagen)\n",
    "    cv2.imwrite('C:\\\\Users\\\\ferna\\\\OneDrive\\\\Escritorio\\\\a\\\\1A1'+str(f)+'.jpg', nueva_imagen)"
   ]
  },
  {
   "cell_type": "code",
   "execution_count": null,
   "id": "96dee747",
   "metadata": {},
   "outputs": [],
   "source": [
    "# Para cambiar nombre\n",
    "import cv2\n",
    "import numpy as np\n",
    "f= 1\n",
    "while f<4321:  \n",
    "    img = cv2.imread('D:\\\\ferna\\\\IA\\\\N\\\\N ('+str(f)+').jpg')\n",
    "    cv2.imwrite('D:\\\\ferna\\\\IA\\\\N\\\\N'+str(f)+'.jpg', img)\n",
    "    f=f+1\n",
    "    #\"D:\\ferna\\IA\\N\\N (1).jpg\""
   ]
  },
  {
   "cell_type": "code",
   "execution_count": null,
   "id": "b4ab569c",
   "metadata": {},
   "outputs": [],
   "source": [
    "# Cambiar nombre y tamaño\n",
    "import cv2\n",
    "import numpy as np\n",
    "f= 1\n",
    "g= 8401\n",
    "while f<4321:  \n",
    "    img = cv2.imread('C:\\\\Users\\\\ferna\\\\OneDrive\\\\Escritorio\\\\b\\\\N'+str(f)+'.jpg')\n",
    "    res = cv2.resize(img, dsize=(125,125),interpolation=cv2.INTER_CUBIC)\n",
    "    cv2.imwrite('C:\\\\Users\\\\ferna\\\\OneDrive\\\\Escritorio\\\\b\\\\N'+str(g)+'.jpg', res)\n",
    "    f=f+1\n",
    "    g=g+1"
   ]
  },
  {
   "cell_type": "code",
   "execution_count": null,
   "id": "e31fee66",
   "metadata": {},
   "outputs": [],
   "source": [
    "# Empleo del cascade\n",
    "import numpy as np\n",
    "import cv2 as cv\n",
    "\n",
    "rostro = cv.CascadeClassifier('C:\\\\Users\\\\ferna\\\\OneDrive\\\\Escritorio\\\\a\\\\classifier\\\\cascade.xml')\n",
    "\n",
    "if rostro.empty():\n",
    "    print(\"Error loading Haar cascade file.\")\n",
    "    exit()\n",
    "\n",
    "cap = cv.VideoCapture(0)\n",
    "\n",
    "if not cap.isOpened():\n",
    "    print(\"Error opening video capture.\")\n",
    "    exit()\n",
    "\n",
    "while True:\n",
    "    ret, frame = cap.read()\n",
    "\n",
    "    if not ret:\n",
    "        print(\"Error reading frame.\")\n",
    "        break\n",
    "\n",
    "    gray = cv.cvtColor(frame, cv.COLOR_BGR2GRAY)\n",
    "\n",
    "    # cambiar escala y vecinos dependiendo de la luz que recibe\n",
    "    # rostros = rostro.detectMultiScale(gray, scaleFactor=1.3, minNeighbors=6)\n",
    "    rostros = rostro.detectMultiScale(gray, scaleFactor=1.1, minNeighbors=5)\n",
    "\n",
    "    for (x, y, w, h) in rostros:\n",
    "        frame = cv.rectangle(frame, (x, y), (x+w, y+h), (255, 0, 0), 5)\n",
    "\n",
    "    cv.imshow('rostros', frame)\n",
    "\n",
    "    k = cv.waitKey(1)\n",
    "    if k == 27:\n",
    "        break\n",
    "\n",
    "cap.release()\n",
    "cv.destroyAllWindows()"
   ]
  }
 ],
 "metadata": {
  "kernelspec": {
   "display_name": "Python 3 (ipykernel)",
   "language": "python",
   "name": "python3"
  },
  "language_info": {
   "codemirror_mode": {
    "name": "ipython",
    "version": 3
   },
   "file_extension": ".py",
   "mimetype": "text/x-python",
   "name": "python",
   "nbconvert_exporter": "python",
   "pygments_lexer": "ipython3",
   "version": "3.11.4"
  }
 },
 "nbformat": 4,
 "nbformat_minor": 5
}
